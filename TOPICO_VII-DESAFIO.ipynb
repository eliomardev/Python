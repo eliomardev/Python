{
 "cells": [
  {
   "cell_type": "markdown",
   "metadata": {
    "colab_type": "text",
    "id": "keC2xRkZzQBf"
   },
   "source": [
    "<?xml version=\"1.0\" encoding=\"UTF-8\"?>\n",
    "<html>\n",
    "  <body>\n",
    "    <header></header>\n",
    "        <CENTER>\n",
    "          <img src=\"https://www.uvv.br/wp-content/themes/uvvBr/templates/assets//img/logouvv.svg\" alt=\"UVV-LOGO\" style = width=\"250px\"; height=\"250px\">\n",
    "        </CENTER><br/>\n",
    "\n",
    "# <CENTER>TÓPICO VII</CENTER>\n",
    "## <CENTER>Introdução à Estruturas de Dados: Homogênea (Biblioteca NDARRAY)</CENTER>\n",
    "\n",
    "\n",
    "### <b>DESAFIO</b>\n",
    "#### <b>Sugestão de resposta</b>\n"
   ]
  },
  {
   "cell_type": "markdown",
   "metadata": {},
   "source": [
    "\n",
    "<b> Considerando os arrays listados abaixo:</b><br />\n",
    "<b> arr1 = np.array([1.1, 1.2, 1.3, 1.4, 1.5]) </b><br />\n",
    "<b> arr2 = np.arange(4) </b><br />\n",
    "<b> condicional = np.array([True, False, True, True, False]) </b><br />\n",
    "\n",
    "<ol>\n",
    "  <li>Retorne o valor do array arr1 se for True no array condicional. Caso contrário, retorne o valor do array arr2</li>\n",
    "</ol>\n"
   ]
  },
  {
   "cell_type": "code",
   "execution_count": 12,
   "metadata": {},
   "outputs": [],
   "source": [
    "# Carregando o pacote numpy\n",
    "import numpy as np"
   ]
  },
  {
   "cell_type": "code",
   "execution_count": 4,
   "metadata": {
    "colab": {},
    "colab_type": "code",
    "id": "fe-JImRVXOM5"
   },
   "outputs": [],
   "source": [
    "# criando os arrays\n",
    "arr1 = np.array([1.1, 1.2, 1.3, 1.4, 1.5])\n",
    "arr2 = np.arange(4)\n",
    "condicional = np.array([True, False, True, True, False])"
   ]
  },
  {
   "cell_type": "code",
   "execution_count": 8,
   "metadata": {},
   "outputs": [
    {
     "name": "stdout",
     "output_type": "stream",
     "text": [
      "arr1 =  [1.1 1.2 1.3 1.4 1.5]\n",
      "arr2 =  [0 1 2 3]\n",
      "condicional =  [ True False  True  True False]\n"
     ]
    }
   ],
   "source": [
    "# imprimindo na tela os arrays\n",
    "print('arr1 = ', arr1)\n",
    "print('arr2 = ', arr2)\n",
    "print('condicional = ', condicional)"
   ]
  },
  {
   "cell_type": "code",
   "execution_count": 10,
   "metadata": {},
   "outputs": [
    {
     "name": "stdout",
     "output_type": "stream",
     "text": [
      "1.1 0 True\n",
      "1.2 1 False\n",
      "1.3 2 True\n",
      "1.4 3 True\n"
     ]
    }
   ],
   "source": [
    "# 'Melhorando' a visualização\n",
    "for x, y, c in zip(arr1, arr2, condicional):\n",
    "    print(x, y, c)"
   ]
  },
  {
   "cell_type": "code",
   "execution_count": 11,
   "metadata": {},
   "outputs": [
    {
     "data": {
      "text/plain": [
       "[1.1, 1, 1.3, 1.4]"
      ]
     },
     "execution_count": 11,
     "metadata": {},
     "output_type": "execute_result"
    }
   ],
   "source": [
    "# Sugestão de execução\n",
    "resposta = [(x if c else y) for x, y, c in zip(arr1, arr2, condicional)]\n",
    "resposta"
   ]
  },
  {
   "cell_type": "markdown",
   "metadata": {},
   "source": [
    "Bom. Aqui foi um pequena sugestão de como resolver o desafio. Você, claro, irá estudar o código e propor melhorias.\n",
    "Foi bom ter você conosco e nos vemos em breve!!"
   ]
  }
 ],
 "metadata": {
  "colab": {
   "collapsed_sections": [],
   "name": "TOPICO_IV.ipynb",
   "provenance": [],
   "toc_visible": true
  },
  "kernelspec": {
   "display_name": "Python 3",
   "language": "python",
   "name": "python3"
  },
  "language_info": {
   "codemirror_mode": {
    "name": "ipython",
    "version": 3
   },
   "file_extension": ".py",
   "mimetype": "text/x-python",
   "name": "python",
   "nbconvert_exporter": "python",
   "pygments_lexer": "ipython3",
   "version": "3.7.4"
  }
 },
 "nbformat": 4,
 "nbformat_minor": 1
}
