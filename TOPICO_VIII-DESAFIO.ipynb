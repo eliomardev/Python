{
 "cells": [
  {
   "cell_type": "markdown",
   "metadata": {
    "colab_type": "text",
    "id": "keC2xRkZzQBf"
   },
   "source": [
    "<?xml version=\"1.0\" encoding=\"UTF-8\"?>\n",
    "<html>\n",
    "  <body>\n",
    "    <header></header>\n",
    "        <CENTER>\n",
    "          <img src=\"https://www.uvv.br/wp-content/themes/uvvBr/templates/assets//img/logouvv.svg\" alt=\"UVV-LOGO\" style = width=\"250px\"; height=\"250px\">\n",
    "        </CENTER><br/>\n",
    "\n",
    "# <CENTER>TÓPICO VIII</CENTER>\n",
    "## <CENTER>Introdução à Estruturas de Dados Heterogênea LIST</CENTER>\n",
    "\n",
    "\n",
    "### <b>DESAFIO</b>\n",
    "#### <b>Sugestão de resposta</b>\n"
   ]
  },
  {
   "cell_type": "markdown",
   "metadata": {},
   "source": [
    "\n",
    "<b> Considerando a lista de temperaturas abaixo:</b><br />\n",
    "<b> Celsius = [-2.3, 0, 10, -15, -1, 3, 50, 22, -5.1, 33, 87, -100] </b><br />\n",
    "\n",
    "<ol>\n",
    "  <li>Criar um código, utilizando o conceito de List Comprehension, para converter Celsius em Fahrenheit</li>\n",
    "  <li>Após exibir o resultado ao usuário, ordenar a lista.</li>\n",
    "  <li>Depois de exibir o resultado ordenado ao usuário, apresentar novo resultado exibindo apenas os índicies a partir de um valor qualquer escolhido pelo usuário </li>\n",
    "</ol>\n"
   ]
  },
  {
   "cell_type": "code",
   "execution_count": 1,
   "metadata": {
    "colab": {},
    "colab_type": "code",
    "id": "fe-JImRVXOM5"
   },
   "outputs": [],
   "source": [
    "#Criando a Lista\n",
    "Celsius = [-2.3, 0, 10, -15, -1, 3, 50, 22, -5.1, 33, 100, -100]"
   ]
  },
  {
   "cell_type": "markdown",
   "metadata": {},
   "source": [
    "&#10139; FÓRMULA PARA CONVERSÃO CELSIUS PARA FAHRENHEIT:\n",
    "\n",
    "    °FAHRENHEIT = (°CELSIUS × 9/5) + 32\n"
   ]
  },
  {
   "cell_type": "code",
   "execution_count": 2,
   "metadata": {},
   "outputs": [
    {
     "name": "stdout",
     "output_type": "stream",
     "text": [
      "[27.86, 32.0, 50.0, 5.0, 30.2, 37.4, 122.0, 71.6, 22.82, 91.4, 212.0, -148.0]\n"
     ]
    }
   ],
   "source": [
    "# Converter Celsius para Fahrenheit utilizando List Comprehension\n",
    "Fahrenheit = [ ((float(9)/5)*temp + 32) for temp in Celsius ]\n",
    "\n",
    "print(Fahrenheit)"
   ]
  },
  {
   "cell_type": "code",
   "execution_count": 3,
   "metadata": {},
   "outputs": [
    {
     "name": "stdout",
     "output_type": "stream",
     "text": [
      "Graus Celsius\t\tGraus Fahrenheit\n",
      "------------------------------------------------------\n",
      "-100.000000\t\t-148.000000\n",
      "-15.000000\t\t5.000000\n",
      "-5.100000\t\t22.820000\n",
      "-2.300000\t\t27.860000\n",
      "-1.000000\t\t30.200000\n",
      "0.000000\t\t32.000000\n",
      "3.000000\t\t37.400000\n",
      "10.000000\t\t50.000000\n",
      "22.000000\t\t71.600000\n",
      "33.000000\t\t91.400000\n",
      "50.000000\t\t122.000000\n",
      "100.000000\t\t212.000000\n"
     ]
    }
   ],
   "source": [
    "# Ordenando e 'Melhorando' a visualização\n",
    "Celsius.sort()\n",
    "Fahrenheit.sort()\n",
    "print(\"Graus Celsius\\t\\tGraus Fahrenheit\")\n",
    "print(\"------------------------------------------------------\")\n",
    "for i, j in zip(Celsius, Fahrenheit):\n",
    "    print(\"%f\\t\\t%f\" %(i, j))"
   ]
  },
  {
   "cell_type": "code",
   "execution_count": 4,
   "metadata": {},
   "outputs": [
    {
     "name": "stdout",
     "output_type": "stream",
     "text": [
      "A partir de qual elemento você deseja visualizar a lista? 4\n",
      "Exibindo o resultado a partir do  4 ° elemento\n",
      "Graus Celsius\t\tGraus Fahrenheit\n",
      "------------------------------------------------------\n",
      "-1.000000\t\t30.200000\n",
      "0.000000\t\t32.000000\n",
      "3.000000\t\t37.400000\n",
      "10.000000\t\t50.000000\n",
      "22.000000\t\t71.600000\n",
      "33.000000\t\t91.400000\n",
      "50.000000\t\t122.000000\n",
      "100.000000\t\t212.000000\n"
     ]
    }
   ],
   "source": [
    "#Perguntando ao usuário a partir de qual elemento(índice) ele deseja ver a lista\n",
    "indice = int(input(\"A partir de qual elemento você deseja visualizar a lista? \"))\n",
    "print(\"Exibindo o resultado a partir do \",indice,\"° elemento\")\n",
    "print(\"Graus Celsius\\t\\tGraus Fahrenheit\")\n",
    "print(\"------------------------------------------------------\")\n",
    "Celsius = Celsius[indice:]\n",
    "Fahrenheit = Fahrenheit[indice:]\n",
    "for i, j in zip(Celsius, Fahrenheit):\n",
    "    print(\"%f\\t\\t%f\" %(i, j))"
   ]
  },
  {
   "cell_type": "markdown",
   "metadata": {},
   "source": [
    "Bom. Aqui foi um pequena sugestão de como resolver o desafio. Você, claro, irá estudar o código e propor melhorias.\n",
    "Foi bom ter você conosco e nos vemos em breve!!"
   ]
  }
 ],
 "metadata": {
  "colab": {
   "collapsed_sections": [],
   "name": "TOPICO_IV.ipynb",
   "provenance": [],
   "toc_visible": true
  },
  "kernelspec": {
   "display_name": "Python 3",
   "language": "python",
   "name": "python3"
  },
  "language_info": {
   "codemirror_mode": {
    "name": "ipython",
    "version": 3
   },
   "file_extension": ".py",
   "mimetype": "text/x-python",
   "name": "python",
   "nbconvert_exporter": "python",
   "pygments_lexer": "ipython3",
   "version": "3.7.4"
  }
 },
 "nbformat": 4,
 "nbformat_minor": 1
}
