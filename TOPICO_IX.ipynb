{
 "cells": [
  {
   "cell_type": "markdown",
   "metadata": {
    "colab_type": "text",
    "id": "keC2xRkZzQBf"
   },
   "source": [
    "<?xml version=\"1.0\" encoding=\"UTF-8\"?>\n",
    "<html>\n",
    "  <body>\n",
    "    <header></header>\n",
    "        <CENTER>\n",
    "          <img src=\"https://www.uvv.br/wp-content/themes/uvvBr/templates/assets//img/logouvv.svg\" alt=\"UVV-LOGO\" style = width=\"250px\"; height=\"250px\">\n",
    "        </CENTER><br>\n",
    "\n",
    "# <CENTER>TÓPICO IX</CENTER>\n",
    "## <CENTER>Estrutura de Dados Heterogênea - DICIONÁRIO: DICT</CENTER>\n",
    "\n",
    "### <b>Objetivos Específicos de Aprendizagem:</b>\n",
    "\n",
    "Compreender os conceitos e analisar a necessidade da utilização de variáveis heterogêneas multidimensionais.\n",
    "\n",
    "<b>Conteúdos do Tópico:</b><br>\n",
    "<ol>\n",
    "  <li>1.\tEstrutura de dados Tabular - DICIONÁRIO: DICT</li>\n",
    "</ol>\n",
    "\n",
    "Conteúdo disponibilizado no material Didádito do Tópico"
   ]
  },
  {
   "cell_type": "markdown",
   "metadata": {
    "colab_type": "text",
    "id": "nIzEgAGILeff"
   },
   "source": [
    "## 1 - Estrutura de dados Tabular - DICIONÁRIO: DICT"
   ]
  },
  {
   "cell_type": "code",
   "execution_count": null,
   "metadata": {},
   "outputs": [],
   "source": [
    "#Criando um dicionário vazio\n",
    "dici1 = {}\n",
    "\n",
    "#Criando um dicionário com valores (Keys e Items)\n",
    "dici2 = {'amor' : 1234 , 5 : [1, 2, 3] , (1,2,3) : 'programação'}\n",
    "print(dici1)\n",
    "print(dici2)"
   ]
  },
  {
   "cell_type": "code",
   "execution_count": null,
   "metadata": {},
   "outputs": [],
   "source": [
    "#Formas diferentes de informar ao python que estamos criando um dicionário\n",
    "dicio = {'amor' : 1234, (1,2,3) : 'programação',\n",
    "         5 : [1, 2, 3], 5.5 + 2J : [[1,2],[3,4]]}\n",
    "dicio"
   ]
  },
  {
   "cell_type": "code",
   "execution_count": null,
   "metadata": {},
   "outputs": [],
   "source": [
    "#Formas diferentes de informar ao python que estamos criando um dicionário\n",
    "dicio = dict([('amor',1234), ((1,2,3),'programação'),\n",
    "         (5,[1, 2, 3]), (5.5 + 2J,[[1,2],[3,4]])])\n",
    "dicio"
   ]
  },
  {
   "cell_type": "code",
   "execution_count": null,
   "metadata": {},
   "outputs": [],
   "source": [
    "dicio.items()"
   ]
  },
  {
   "cell_type": "code",
   "execution_count": null,
   "metadata": {},
   "outputs": [],
   "source": [
    "#Dicionários com Listas\n",
    "dicio = dict(amor=1234, rev='programação',\n",
    "         tru=[1, 2, 3], a=[[1,2],[3,4]])\n",
    "dicio"
   ]
  },
  {
   "cell_type": "code",
   "execution_count": null,
   "metadata": {},
   "outputs": [],
   "source": [
    "#Erro de sintaxe\n",
    "dici = {'amor' : 1234, (1,2,3) : 'programação',\n",
    "        5 : [1, 2, 3], [1, 2, 3] : (1, 2, 3)}"
   ]
  },
  {
   "cell_type": "code",
   "execution_count": null,
   "metadata": {},
   "outputs": [],
   "source": [
    "#Adicionando elemento ao dicionário\n",
    "dici = {'Nome': 'Zyon', \n",
    "        'tel': 98765432}\n",
    "dici[5] = 32\n",
    "dici"
   ]
  },
  {
   "cell_type": "code",
   "execution_count": null,
   "metadata": {},
   "outputs": [],
   "source": [
    "dici = {'Nome': 'Zyon', 'tel': 98765432}\n",
    "dici[1] = 32323333\n",
    "dici"
   ]
  },
  {
   "cell_type": "code",
   "execution_count": null,
   "metadata": {},
   "outputs": [],
   "source": [
    "#Acessando um elemento do dicionário através da Key\n",
    "dici = {'Nome': 'Zyon',\n",
    "        'tel': 98765432}\n",
    "dici['Nome']"
   ]
  },
  {
   "cell_type": "code",
   "execution_count": null,
   "metadata": {},
   "outputs": [],
   "source": [
    "spellman = {'Nome': 'Sabrina', 'tia1': 'Zelda',\n",
    "        'tia2': 'Hilda', 'primo': 'Ambrose'}\n",
    "spellman['primo']"
   ]
  },
  {
   "cell_type": "code",
   "execution_count": null,
   "metadata": {},
   "outputs": [],
   "source": [
    "#Alterando um valor do dicionário \n",
    "dici = {'Nome': 'Zyon', \n",
    "        'tel': 98765432}\n",
    "dici['tel'] = 23456789\n",
    "dici "
   ]
  },
  {
   "cell_type": "code",
   "execution_count": null,
   "metadata": {},
   "outputs": [],
   "source": [
    "#Verificando se a \"Key\" existe\n",
    "dici = {'Nome': 'Zyon', \n",
    "        'tel': 98765432}\n",
    "'Nome' in dici"
   ]
  },
  {
   "cell_type": "code",
   "execution_count": null,
   "metadata": {},
   "outputs": [],
   "source": [
    "#\"Zyon\" é um valor e não uma Key, a forma de pesquisa é diferente\n",
    "dici = {'Nome': 'Zyon', \n",
    "        'tel': 98765432}\n",
    "'Zyon' in dici"
   ]
  },
  {
   "cell_type": "code",
   "execution_count": null,
   "metadata": {},
   "outputs": [],
   "source": [
    "mulheres = {'Eua':'Andela Davis', \n",
    "            'Argentina': 'Mercedes Sosa',\n",
    "            'Brasil':'Laudelina de Campos', \n",
    "            'México':'Frida Kahlo'}\n",
    "'Frida Kahlo' in mulheres"
   ]
  },
  {
   "cell_type": "code",
   "execution_count": null,
   "metadata": {},
   "outputs": [],
   "source": [
    "#Deletando uma chave (key) e seus valores (values)\n",
    "dici = {'Anderson': 98765432, 'Helen': 95554444, \n",
    "        'Andressa': 912125454, 'Liana':33399933}\n",
    "del dici['Andressa']\n",
    "dici"
   ]
  },
  {
   "cell_type": "code",
   "execution_count": null,
   "metadata": {},
   "outputs": [],
   "source": [
    "#Deletando uma chave do dicionário, porém exibindo o valor que foi deletado\n",
    "dici = {'Anderson': 98765432, 'Helen': 95554444, \n",
    "        'Andressa': 912125454, 'Liana':33399933}\n",
    "Nome = 'Andressa'\n",
    "Telefone = dici.pop(Nome)\n",
    "print(Nome, Telefone)\n",
    "print(dici)"
   ]
  },
  {
   "cell_type": "code",
   "execution_count": null,
   "metadata": {},
   "outputs": [],
   "source": [
    "dici = {'Anderson': 98765432, 'Helen': 95554444, \n",
    "        'Andressa': 912125454, 'Liana':33399933}\n",
    "print(dici.pop('Andressa'))\n",
    "print(dici)"
   ]
  },
  {
   "cell_type": "code",
   "execution_count": null,
   "metadata": {},
   "outputs": [],
   "source": [
    "#Acessando as chaves (keys) e acessando os valores (values)\n",
    "dici = {'Anderson': 98765432, 'Helen': 95554444, \n",
    "        'Andressa': 912125454, 'Liana':33399933}\n",
    "print(list(dici.keys()))\n",
    "print(list(dici.values()))"
   ]
  },
  {
   "cell_type": "code",
   "execution_count": null,
   "metadata": {},
   "outputs": [],
   "source": [
    "#Mesclando valores de um dicionário em outro\n",
    "dici = {'Anderson': 98765432, 'Helen': 95554444} \n",
    "dici2 = {'Andressa': 912125454, 'Liana':33399933}\n",
    "dici.update(dici2)\n",
    "dici"
   ]
  },
  {
   "cell_type": "code",
   "execution_count": null,
   "metadata": {},
   "outputs": [],
   "source": [
    "#Mesclando valores de um dicionário em outro, porém temos chaves repetidas, logo atualiza a chave\n",
    "dici = {'Anderson': 98765432, 'Helen': 95554444} \n",
    "dici2 = {'Andressa': 912125454, 'Helen':33399933}\n",
    "dici.update(dici2)\n",
    "dici"
   ]
  },
  {
   "cell_type": "code",
   "execution_count": null,
   "metadata": {},
   "outputs": [],
   "source": [
    "#loop for em dicionários\n",
    "Nomes = ['Anderson', 'Helen', 'Andressa', 'Liana']\n",
    "Cidades = ['Vitória', 'Salvador', 'Natal', 'Wakanda']\n",
    "dici = {}\n",
    "for i, nome in enumerate(Nomes):\n",
    "    dici[nome] = Cidades[i]\n",
    "dici"
   ]
  },
  {
   "cell_type": "code",
   "execution_count": null,
   "metadata": {},
   "outputs": [],
   "source": [
    "Nomes = ['Anderson', 'Helen', 'Andressa', 'Liana']\n",
    "Cidades = ['Vitória', 'Salvador', 'Natal', 'Wakanda']\n",
    "dici = {}\n",
    "for nome, cidade in zip(Nomes, Cidades):\n",
    "    dici[nome] = cidade\n",
    "dici"
   ]
  },
  {
   "cell_type": "code",
   "execution_count": null,
   "metadata": {},
   "outputs": [],
   "source": [
    "#função zip em dicionário\n",
    "Nomes = ['Anderson', 'Helen', 'Andressa', 'Liana']\n",
    "Cidades = ['Vitória', 'Salvador', 'Natal', 'Wakanda']\n",
    "dici = dict(zip(Nomes, Cidades))\n",
    "dici"
   ]
  },
  {
   "cell_type": "code",
   "execution_count": null,
   "metadata": {},
   "outputs": [],
   "source": [
    "#Condicionais com dicionários\n",
    "dici = {'Anderson': 98765432, 'Helen': 95554444, \n",
    "        'Andressa': 912125454, 'Liana':33399933}\n",
    "if 'Araribóia' in dici:\n",
    "    valor = dici['Araribóia']\n",
    "else:\n",
    "    valor = 11111111\n",
    "valor"
   ]
  },
  {
   "cell_type": "code",
   "execution_count": null,
   "metadata": {},
   "outputs": [],
   "source": [
    "#a função get retorna um valor padrão caso a chave não exista\n",
    "dici = {'Anderson': 98765432, 'Helen': 95554444, \n",
    "        'Andressa': 912125454, 'Liana':33399933}\n",
    "dici.get('Araribóia', 11111111)"
   ]
  },
  {
   "cell_type": "code",
   "execution_count": null,
   "metadata": {},
   "outputs": [],
   "source": [
    "Nomes = ['Anderson', 'Helen', 'Andressa', 'Liana']\n",
    "dici = {}\n",
    "for x in Nomes:\n",
    "    letras = len(x)\n",
    "    if letras not in dici:\n",
    "        dici[letras] = [x]\n",
    "    else:\n",
    "        dici[letras].append(x)\n",
    "dici"
   ]
  },
  {
   "cell_type": "code",
   "execution_count": null,
   "metadata": {},
   "outputs": [],
   "source": [
    "Nomes = ['Anderson', 'Helen', 'Andressa', 'Liana']\n",
    "dici = {}\n",
    "for x in Nomes:\n",
    "    letras = len(x)\n",
    "    dici.setdefault(letras, []).append(x)\n",
    "dici"
   ]
  },
  {
   "cell_type": "code",
   "execution_count": null,
   "metadata": {},
   "outputs": [],
   "source": [
    "from collections import defaultdict\n",
    "Nomes = ['Anderson', 'Helen', 'Andressa', 'Liana']\n",
    "dici = defaultdict(list)\n",
    "for x in Nomes:\n",
    "    dici[len(x)].append(x)\n",
    "dict(dici)"
   ]
  },
  {
   "cell_type": "code",
   "execution_count": null,
   "metadata": {},
   "outputs": [],
   "source": [
    "#Verificando se um objetivo pode ser chave para um dicionário\n",
    "print(hash('teste'))\n",
    "print(hash(152))\n",
    "print(hash((4, 2, (1, 2))))\n",
    "print(hash([1, 2, 3]))"
   ]
  },
  {
   "cell_type": "markdown",
   "metadata": {},
   "source": [
    "### Dict comprehensions e Dicionários aninhados"
   ]
  },
  {
   "cell_type": "code",
   "execution_count": null,
   "metadata": {},
   "outputs": [],
   "source": [
    "#dict comprehensions \n",
    "Nomes = ['Anderson', 'Helen', 'Andressa', 'Liana']\n",
    "Cidades = ['Vitória', 'Salvador', 'Natal', 'Wakanda']\n",
    "dici = {}\n",
    "for i,(nome, cidade) in enumerate(zip(Nomes, Cidades)):\n",
    "    dici[i] = [nome, cidade]\n",
    "dici"
   ]
  },
  {
   "cell_type": "code",
   "execution_count": null,
   "metadata": {},
   "outputs": [],
   "source": [
    "Nomes = ['Anderson', 'Helen', 'Andressa', 'Liana']\n",
    "Cidades = ['Vitória', 'Salvador', 'Natal', 'Wakanda']\n",
    "dici = {i:[nome,cidade] for i, (nome, cidade) in enumerate(zip(Nomes, Cidades))}\n",
    "dici"
   ]
  },
  {
   "cell_type": "code",
   "execution_count": null,
   "metadata": {},
   "outputs": [],
   "source": [
    "Nomes = ['Anderson', 'Helen', 'Andressa', \n",
    "         'Liana', 'Carlos', 'Jaciara', \n",
    "         'Raul', 'Marina', 'Carolina']\n",
    "dici = {}\n",
    "for i, n in enumerate(Nomes):\n",
    "    if len(n) < 6:\n",
    "        dici[i] = n\n",
    "dici"
   ]
  },
  {
   "cell_type": "code",
   "execution_count": null,
   "metadata": {},
   "outputs": [],
   "source": [
    "Nomes = ['Anderson', 'Helen', 'Andressa', \n",
    "         'Liana', 'Carlos', 'Jaciara', \n",
    "         'Raul', 'Marina', 'Carolina']\n",
    "dici = {i : n for i, n in enumerate(Nomes) if len(n) < 6}\n",
    "dici"
   ]
  },
  {
   "cell_type": "code",
   "execution_count": null,
   "metadata": {},
   "outputs": [],
   "source": [
    "Cidades = ['Vitória', 'Cariacica', 'Serra', \n",
    "         'Viana', 'Marechal Floriano', 'Itaúnas', \n",
    "         'Vila Velha', 'Caparaó', 'Guarapari']\n",
    "menos_8letras = {}\n",
    "for i, x in enumerate(Cidades):\n",
    "    if len(x) < 8:\n",
    "        menos_8letras[i] = x\n",
    "menos_8letras"
   ]
  },
  {
   "cell_type": "code",
   "execution_count": null,
   "metadata": {},
   "outputs": [],
   "source": [
    "Cidades = ['Vitória', 'Cariacica', 'Serra', \n",
    "         'Viana', 'Marechal Floriano', 'Itaúnas', \n",
    "         'Vila Velha', 'Caparaó', 'Guarapari']\n",
    "menos_8letras = {i:x for i,x in enumerate(Cidades) if len(x)<8}\n",
    "menos_8letras"
   ]
  },
  {
   "cell_type": "code",
   "execution_count": null,
   "metadata": {},
   "outputs": [],
   "source": [
    "Países = ['Brasil', 'Cuba', 'Uruguai', 'Vietnam']\n",
    "{i:x for i,x in enumerate(Países)}"
   ]
  },
  {
   "cell_type": "code",
   "execution_count": null,
   "metadata": {},
   "outputs": [],
   "source": [
    "Cidades = ['Vitória', 'Salvador', 'Olinda', 'Maceió']\n",
    "Estados = ['ES', 'BA', 'PE', 'AL']\n",
    "Código_UF = [32, 29, 26, 27]\n",
    "dicionário = {}"
   ]
  },
  {
   "cell_type": "code",
   "execution_count": null,
   "metadata": {},
   "outputs": [],
   "source": [
    "for cid, est, cod in zip(Cidades, Estados, Código_UF):\n",
    "    dicionário[cod] = [est, cid]\n",
    "dicionário"
   ]
  },
  {
   "cell_type": "code",
   "execution_count": null,
   "metadata": {},
   "outputs": [],
   "source": [
    "for cid, est, cod in zip(Cidades, Estados, Código_UF):\n",
    "    if cod < 30:\n",
    "        dicionário[cod] = [est, cid.upper()]\n",
    "dicionário"
   ]
  },
  {
   "cell_type": "code",
   "execution_count": null,
   "metadata": {},
   "outputs": [],
   "source": [
    "{cod:[est,cid.upper()] for cid,est,cod in zip(Cidades, Estados, Código_UF) if cod<30}"
   ]
  },
  {
   "cell_type": "code",
   "execution_count": null,
   "metadata": {},
   "outputs": [],
   "source": [
    "dicionario_aninhado = {'chave1':{'chave2_aninhada':{'chave3_aninhada':'Dicionário aninhado'}}}"
   ]
  },
  {
   "cell_type": "code",
   "execution_count": null,
   "metadata": {},
   "outputs": [],
   "source": [
    "dicionario_aninhado"
   ]
  },
  {
   "cell_type": "code",
   "execution_count": null,
   "metadata": {},
   "outputs": [],
   "source": [
    "dict_aninhado['chave1']['chave2_aninhada']['chave3_aninhada']"
   ]
  }
 ],
 "metadata": {
  "colab": {
   "collapsed_sections": [],
   "name": "TOPICO_IV.ipynb",
   "provenance": [],
   "toc_visible": true
  },
  "kernelspec": {
   "display_name": "Python 3",
   "language": "python",
   "name": "python3"
  },
  "language_info": {
   "codemirror_mode": {
    "name": "ipython",
    "version": 3
   },
   "file_extension": ".py",
   "mimetype": "text/x-python",
   "name": "python",
   "nbconvert_exporter": "python",
   "pygments_lexer": "ipython3",
   "version": "3.7.4"
  }
 },
 "nbformat": 4,
 "nbformat_minor": 1
}
