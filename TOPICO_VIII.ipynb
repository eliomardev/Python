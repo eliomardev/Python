{
 "cells": [
  {
   "cell_type": "markdown",
   "metadata": {
    "colab_type": "text",
    "id": "keC2xRkZzQBf"
   },
   "source": [
    "<?xml version=\"1.0\" encoding=\"UTF-8\"?>\n",
    "<html>\n",
    "  <body>\n",
    "    <header></header>\n",
    "        <CENTER>\n",
    "          <img src=\"https://www.uvv.br/wp-content/themes/uvvBr/templates/assets//img/logouvv.svg\" alt=\"UVV-LOGO\" style = width=\"250px\"; height=\"250px\">\n",
    "        </CENTER><br/>\n",
    "\n",
    "# <CENTER>TÓPICO VIII</CENTER>\n",
    "## <CENTER>Introdução à Estruturas de Dados Heterogênea LIST</CENTER>\n",
    "\n",
    "### <b>Objetivos Específicos de Aprendizagem:</b>\n",
    "\n",
    "Compreender os conceitos e analisar a necessidade da utilização de variáveis homogêneas.\n",
    "\n",
    "<b>Conteúdos do Tópico:</b><br />\n",
    "<ol>\n",
    "  <li>1.\tEstruturas heterogêneas de dados: LISTAS</li>\n",
    "</ol>\n",
    "\n",
    "Conteúdo disponibilizado no material Didádito do Tópico"
   ]
  },
  {
   "cell_type": "markdown",
   "metadata": {
    "colab_type": "text",
    "id": "nIzEgAGILeff"
   },
   "source": [
    "## 1 - Estruturas Heterogêneas de Dados: Listas"
   ]
  },
  {
   "cell_type": "markdown",
   "metadata": {},
   "source": [
    "## Listas"
   ]
  },
  {
   "cell_type": "code",
   "execution_count": null,
   "metadata": {},
   "outputs": [],
   "source": [
    "#criando uma lista\n",
    "lista = [1, 2, 5, None]\n",
    "lista"
   ]
  },
  {
   "cell_type": "code",
   "execution_count": null,
   "metadata": {},
   "outputs": [],
   "source": [
    "tup = ('abc', 'def', 'ghi')\n",
    "lista = list(tup)\n",
    "lista"
   ]
  },
  {
   "cell_type": "code",
   "execution_count": null,
   "metadata": {},
   "outputs": [],
   "source": [
    "lista = [None]*5\n",
    "lista"
   ]
  },
  {
   "cell_type": "code",
   "execution_count": null,
   "metadata": {},
   "outputs": [],
   "source": [
    "string = 'frase'\n",
    "lista = list(string)\n",
    "print(lista)"
   ]
  },
  {
   "cell_type": "code",
   "execution_count": null,
   "metadata": {},
   "outputs": [],
   "source": [
    "listadomercado = ['ovos', 'farinha', 'leite', 'maças']"
   ]
  },
  {
   "cell_type": "code",
   "execution_count": null,
   "metadata": {},
   "outputs": [],
   "source": [
    "print(listadomercado)"
   ]
  },
  {
   "cell_type": "markdown",
   "metadata": {},
   "source": [
    "### Atualizando um item da lista"
   ]
  },
  {
   "cell_type": "code",
   "execution_count": null,
   "metadata": {},
   "outputs": [],
   "source": [
    "# Imprimindo um item da lista\n",
    "listadomercado[2]"
   ]
  },
  {
   "cell_type": "code",
   "execution_count": null,
   "metadata": {},
   "outputs": [],
   "source": [
    "# Atualizando um item da lista\n",
    "listadomercado[2] = \"chocolate\""
   ]
  },
  {
   "cell_type": "code",
   "execution_count": null,
   "metadata": {},
   "outputs": [],
   "source": [
    "# Imprimindo lista alterada\n",
    "listadomercado"
   ]
  },
  {
   "cell_type": "markdown",
   "metadata": {},
   "source": [
    "### Deletando um item da lista"
   ]
  },
  {
   "cell_type": "code",
   "execution_count": null,
   "metadata": {},
   "outputs": [],
   "source": [
    "# Out of index. Não é possível deletar um item que não existe na lista\n",
    "del listadomercado[4] "
   ]
  },
  {
   "cell_type": "code",
   "execution_count": null,
   "metadata": {},
   "outputs": [],
   "source": [
    "# Deletando um item específico da lista\n",
    "del listadomercado[3]"
   ]
  },
  {
   "cell_type": "code",
   "execution_count": null,
   "metadata": {},
   "outputs": [],
   "source": [
    "# Imprimindo o item com a lista alterada\n",
    "listadomercado"
   ]
  },
  {
   "cell_type": "markdown",
   "metadata": {},
   "source": [
    "### Listas de listas (Listas aninhadas), Operações com listas, Operador in e funções Built-in\n",
    "Listas de listas são matrizes em Python"
   ]
  },
  {
   "cell_type": "code",
   "execution_count": null,
   "metadata": {},
   "outputs": [],
   "source": [
    "# Criando uma lista de listas\n",
    "listas = [[1,2,3], [10,15,14], [10.1,8.7,2.3]]"
   ]
  },
  {
   "cell_type": "code",
   "execution_count": null,
   "metadata": {},
   "outputs": [],
   "source": [
    "print(listas)"
   ]
  },
  {
   "cell_type": "code",
   "execution_count": null,
   "metadata": {},
   "outputs": [],
   "source": [
    "# fazer uma lista a partir de uma string, mas cada ítem da lista tem duas letras\n",
    "string = 'frases'\n",
    "lista1 = list(string)\n",
    "lista2 = lista1[::2]\n",
    "lista3 = lista1[1::2]\n",
    "lista4 = []\n",
    "for a,b in zip(lista2, lista3):\n",
    "    c = a+b\n",
    "    lista4.append(c)\n",
    "print(lista4)"
   ]
  },
  {
   "cell_type": "code",
   "execution_count": null,
   "metadata": {},
   "outputs": [],
   "source": [
    "lista = ['f', 'r', 'a', 's', 'e']\n",
    "string = ''.join(lista)\n",
    "print(string)"
   ]
  },
  {
   "cell_type": "code",
   "execution_count": null,
   "metadata": {},
   "outputs": [],
   "source": [
    "lista_teste = [100, 2, -5, 3.4]"
   ]
  },
  {
   "cell_type": "code",
   "execution_count": null,
   "metadata": {},
   "outputs": [],
   "source": [
    "# Verificando se o valor 10 pertence a lista\n",
    "print(10 in lista_teste)"
   ]
  },
  {
   "cell_type": "code",
   "execution_count": null,
   "metadata": {},
   "outputs": [],
   "source": [
    "# Verificando se o valor 100 pertence a lista\n",
    "print(100 in lista_teste)"
   ]
  },
  {
   "cell_type": "code",
   "execution_count": null,
   "metadata": {},
   "outputs": [],
   "source": [
    "# Função max() retorna o valor máximo da lista e min() o mínimo da lista\n",
    "print(max(lista_teste))\n",
    "print(min(lista_teste))"
   ]
  },
  {
   "cell_type": "code",
   "execution_count": null,
   "metadata": {},
   "outputs": [],
   "source": [
    "gen = [0, 5, 7, None, True, 'casa']\n",
    "for i in gen:\n",
    "    print(i)"
   ]
  },
  {
   "cell_type": "code",
   "execution_count": null,
   "metadata": {},
   "outputs": [],
   "source": [
    "# Adicionando elementos à lista\n",
    "lista = [1, 2]\n",
    "lista.append(3)\n",
    "lista"
   ]
  },
  {
   "cell_type": "code",
   "execution_count": null,
   "metadata": {},
   "outputs": [],
   "source": [
    "lista = [1, 2]\n",
    "lista.append(0)\n",
    "lista"
   ]
  },
  {
   "cell_type": "code",
   "execution_count": null,
   "metadata": {},
   "outputs": [],
   "source": [
    "lista = [1, 2]\n",
    "lista.extend([3])\n",
    "lista"
   ]
  },
  {
   "cell_type": "code",
   "execution_count": null,
   "metadata": {},
   "outputs": [],
   "source": [
    "lista = [1, 'amarelo', [1, 2], (3,4)]\n",
    "lista.insert(1, 'vermelho')\n",
    "lista"
   ]
  },
  {
   "cell_type": "code",
   "execution_count": null,
   "metadata": {},
   "outputs": [],
   "source": [
    "lista = [1, 3]\n",
    "lista.insert(1, 2)\n",
    "lista"
   ]
  },
  {
   "cell_type": "code",
   "execution_count": null,
   "metadata": {},
   "outputs": [],
   "source": [
    "lista = [1, 2, 'três']\n",
    "lista.pop(1)\n",
    "listas"
   ]
  },
  {
   "cell_type": "code",
   "execution_count": null,
   "metadata": {},
   "outputs": [],
   "source": [
    "lista = [1, 2, 'três']\n",
    "lista.remove('três')\n",
    "lista"
   ]
  },
  {
   "cell_type": "code",
   "execution_count": null,
   "metadata": {},
   "outputs": [],
   "source": [
    "lista = [1, 2, 'três', [4, 5]]\n",
    "2 in lista"
   ]
  },
  {
   "cell_type": "code",
   "execution_count": null,
   "metadata": {},
   "outputs": [],
   "source": [
    "lista = [1, 2, 'três', [4, 5]]\n",
    "2 not in lista"
   ]
  },
  {
   "cell_type": "code",
   "execution_count": null,
   "metadata": {},
   "outputs": [],
   "source": [
    "# Não é possível remover um item que não está na lista \n",
    "lista = [1, 2, 'três', [4, 5]]\n",
    "lista.remove(3)"
   ]
  },
  {
   "cell_type": "code",
   "execution_count": null,
   "metadata": {},
   "outputs": [],
   "source": [
    "lista = [1, 2, 'três', [4, 5]]\n",
    "if 3 in lista:\n",
    "    lista.remove(3)\n",
    "lista"
   ]
  },
  {
   "cell_type": "code",
   "execution_count": null,
   "metadata": {},
   "outputs": [],
   "source": [
    "lista1 = [1, 'a', 2, 'b']\n",
    "lista2 = [3, 'c', 4, 'd']\n",
    "lista3 = lista1 + lista2\n",
    "lista3"
   ]
  },
  {
   "cell_type": "code",
   "execution_count": null,
   "metadata": {},
   "outputs": [],
   "source": [
    "lista1 = [1, 2, 3, 4]\n",
    "lista2 = lista1 + lista1\n",
    "lista2"
   ]
  },
  {
   "cell_type": "code",
   "execution_count": null,
   "metadata": {},
   "outputs": [],
   "source": [
    "lista1 = [1, 'a', 2, 'b']\n",
    "lista1 = lista1 + [3, 'c', 4, 'd']\n",
    "lista1"
   ]
  },
  {
   "cell_type": "code",
   "execution_count": null,
   "metadata": {},
   "outputs": [],
   "source": [
    "lista1 = [1, 'a', 2, 'b']\n",
    "lista1.extend([3, 'c', 4, 'd'])\n",
    "lista1"
   ]
  },
  {
   "cell_type": "code",
   "execution_count": null,
   "metadata": {},
   "outputs": [],
   "source": [
    "# Ordenando a lista\n",
    "lista = [1, 5, 7, 3, 6, 2, 4]\n",
    "lista.sort()\n",
    "lista"
   ]
  },
  {
   "cell_type": "code",
   "execution_count": null,
   "metadata": {},
   "outputs": [],
   "source": [
    "lista = ['c', 'a', 'd', 'b', 'f']\n",
    "lista.sort()\n",
    "lista"
   ]
  },
  {
   "cell_type": "code",
   "execution_count": null,
   "metadata": {},
   "outputs": [],
   "source": [
    "lista = ['março', 'janeiro', 'abril', 'dezembro', 'agosto']\n",
    "lista.sort(key=len)\n",
    "lista"
   ]
  },
  {
   "cell_type": "code",
   "execution_count": null,
   "metadata": {},
   "outputs": [],
   "source": [
    "lista = ['abcd', 'a', 'abc', 'ab']\n",
    "lista.sort(key=len)\n",
    "lista"
   ]
  },
  {
   "cell_type": "code",
   "execution_count": null,
   "metadata": {},
   "outputs": [],
   "source": [
    "# Importando o módulo Bisect\n",
    "import bisect\n",
    "lista = [1, 1, 1, 3, 7, 15, 16, 17]\n",
    "bisect.bisect(lista, 14)"
   ]
  },
  {
   "cell_type": "code",
   "execution_count": null,
   "metadata": {},
   "outputs": [],
   "source": [
    "lista = [1, 1, 1, 3, 7, 15, 16, 17]\n",
    "bisect.insort(lista, 14)\n",
    "lista"
   ]
  },
  {
   "cell_type": "code",
   "execution_count": null,
   "metadata": {},
   "outputs": [],
   "source": [
    "lista = [3, 15, 17, 1, 7, 1, 16, 1]\n",
    "bisect.insort(lista, 14)\n",
    "lista"
   ]
  },
  {
   "cell_type": "code",
   "execution_count": null,
   "metadata": {},
   "outputs": [],
   "source": [
    "lista = [1, 1, 1, 3, 7, 14, 15, 16, 17]\n",
    "lista2 = lista\n",
    "lista2.pop()\n",
    "lista"
   ]
  },
  {
   "cell_type": "code",
   "execution_count": null,
   "metadata": {},
   "outputs": [],
   "source": [
    "lista = [1, 1, 1, 3, 7, 14, 15, 16, 17]\n",
    "lista2 = lista[:]\n",
    "lista2.pop()\n",
    "lista"
   ]
  },
  {
   "cell_type": "code",
   "execution_count": null,
   "metadata": {},
   "outputs": [],
   "source": [
    "lista[0:6:2]"
   ]
  },
  {
   "cell_type": "code",
   "execution_count": null,
   "metadata": {},
   "outputs": [],
   "source": [
    "lista[:6:2]"
   ]
  },
  {
   "cell_type": "code",
   "execution_count": null,
   "metadata": {},
   "outputs": [],
   "source": [
    "lista[8:0:-1] "
   ]
  },
  {
   "cell_type": "code",
   "execution_count": null,
   "metadata": {},
   "outputs": [],
   "source": [
    "lista[8:0:-2] "
   ]
  },
  {
   "cell_type": "code",
   "execution_count": null,
   "metadata": {},
   "outputs": [],
   "source": [
    "lista[::-1] "
   ]
  },
  {
   "cell_type": "code",
   "execution_count": null,
   "metadata": {},
   "outputs": [],
   "source": [
    "lista2 = lista[2:5]\n",
    "lista2"
   ]
  },
  {
   "cell_type": "code",
   "execution_count": null,
   "metadata": {},
   "outputs": [],
   "source": [
    "lista2 = lista2 + [8]\n",
    "lista2"
   ]
  },
  {
   "cell_type": "code",
   "execution_count": null,
   "metadata": {},
   "outputs": [],
   "source": [
    "lista = [1, 1, 1, 3, 7, 14, 15, 16, 17]\n",
    "i = 0\n",
    "for value in lista:\n",
    "    print(value, \":\", i)\n",
    "    i += 1"
   ]
  },
  {
   "cell_type": "code",
   "execution_count": null,
   "metadata": {},
   "outputs": [],
   "source": [
    "lista = [1, 3, 7, 14]\n",
    "i = 0\n",
    "for value in lista:\n",
    "    print(value, \":\", i)\n",
    "    i += 1"
   ]
  },
  {
   "cell_type": "code",
   "execution_count": null,
   "metadata": {},
   "outputs": [],
   "source": [
    "# função enumerate exibe o índice de cada elemento\n",
    "lista = [1, 1, 1, 3, 7, 14, 15, 16, 17]\n",
    "for i, value in enumerate(lista):\n",
    "    print(value, \":\", i)"
   ]
  },
  {
   "cell_type": "code",
   "execution_count": null,
   "metadata": {},
   "outputs": [],
   "source": [
    "lista = [1, 3, 7, 14]\n",
    "for i, value in enumerate(lista):\n",
    "    print(value, \":\", i)"
   ]
  },
  {
   "cell_type": "code",
   "execution_count": null,
   "metadata": {},
   "outputs": [],
   "source": [
    "lista = [4, 1, 5, 3, 2]\n",
    "sorted(lista)"
   ]
  },
  {
   "cell_type": "code",
   "execution_count": null,
   "metadata": {},
   "outputs": [],
   "source": [
    "sorted('inspira, expira')"
   ]
  },
  {
   "cell_type": "code",
   "execution_count": null,
   "metadata": {},
   "outputs": [],
   "source": [
    "string = 'teste'\n",
    "sorted(string)"
   ]
  },
  {
   "cell_type": "code",
   "execution_count": null,
   "metadata": {},
   "outputs": [],
   "source": [
    "lista1 = ['amor', 'bahia', 'casa']\n",
    "lista2 = [1, 2, 3]\n",
    "zipped = zip(lista1, lista2)\n",
    "list(zipped)"
   ]
  },
  {
   "cell_type": "code",
   "execution_count": null,
   "metadata": {},
   "outputs": [],
   "source": [
    "lista1 = ['amor', 'bahia', 'casa']\n",
    "lista2 = [1, 2, 3]\n",
    "lista3 = ['amizade', 'pernambuco']\n",
    "zipped = zip(lista1, lista2, lista3)\n",
    "list(zipped)"
   ]
  },
  {
   "cell_type": "code",
   "execution_count": null,
   "metadata": {},
   "outputs": [],
   "source": [
    "lista1 = ['amor', 'bahia', 'casa']\n",
    "lista2 = ['amizade', 'pernambuco', 'rua']\n",
    "for i, (a, b) in enumerate(zip(lista1, lista2)):\n",
    "    print('{0}: {1}, {2}'.format(i, a, b))"
   ]
  },
  {
   "cell_type": "code",
   "execution_count": null,
   "metadata": {},
   "outputs": [],
   "source": [
    "participantes = [('Anne', 'Hathaway'), ('Lupita', 'Nyongo'), ('Natalie', 'Portman')]\n",
    "nome, sobrenome = zip(*participantes)\n",
    "print(nome)\n",
    "print(sobrenome)"
   ]
  },
  {
   "cell_type": "code",
   "execution_count": null,
   "metadata": {},
   "outputs": [],
   "source": [
    "p = [True, False, False, True]\n",
    "q = [True, True, True, False]\n",
    "PorQ = []\n",
    "for (a,b) in zip(p, q):\n",
    "    PorQ.append(a or b)\n",
    "PorQ"
   ]
  },
  {
   "cell_type": "code",
   "execution_count": null,
   "metadata": {},
   "outputs": [],
   "source": [
    "calendario = [('jan',31), ('fev',28), ('mar',31),\n",
    "         ('abr',30), ('mai',31), ('jun',30),\n",
    "         ('jul',31), ('ago',31), ('set',30),\n",
    "         ('out',31), ('nov',30), ('dez',31)]\n",
    "meses, dias = zip(*calendario)\n",
    "mes = input(\"Entre com o mês desejado (apenas 3 dígitos): \")\n",
    "if mes in meses:\n",
    "    print('Mês reconhecido')\n",
    "    print(meses.index(mes)+1)\n",
    "    print(dias[meses.index(mes)])\n",
    "else:\n",
    "    print('Mês não reconhecido')"
   ]
  },
  {
   "cell_type": "code",
   "execution_count": null,
   "metadata": {},
   "outputs": [],
   "source": [
    "nomes = ['Alberto', 'Amanda', 'lindsey', 'Marina', 'augusto', 'Ana', 'anne', 'Luzia']\n",
    "resultado = []\n",
    "for x in nomes:\n",
    "    if x[0].lower() == 'a':\n",
    "        resultado.append(x.upper())\n",
    "resultado"
   ]
  },
  {
   "cell_type": "code",
   "execution_count": null,
   "metadata": {},
   "outputs": [],
   "source": [
    "nomes = ['Alberto', 'Amanda', 'lindsey', 'Marina', 'augusto', 'Ana', 'anne', 'Luzia']\n",
    "resultado = [x.upper() for x in nomes if x[0].lower()=='a']\n",
    "resultado"
   ]
  },
  {
   "cell_type": "code",
   "execution_count": null,
   "metadata": {},
   "outputs": [],
   "source": [
    "nomes = [['Alberto', 'augusto', 'Hygor'],\n",
    "         ['Amanda', 'lindsey', 'Marina', 'Ana', 'anne', 'Liniker']]\n",
    "sem_letra_a = []\n",
    "for pessoas in nomes:\n",
    "    for x in pessoas:\n",
    "        if x[0].lower() != 'a':\n",
    "              sem_letra_a.append(x)\n",
    "sem_letra_a"
   ]
  },
  {
   "cell_type": "code",
   "execution_count": null,
   "metadata": {},
   "outputs": [],
   "source": [
    "nomes = [['Alberto', 'augusto', 'Hygor'],\n",
    "         ['Amanda', 'lindsey', 'Marina', 'Ana', 'anne', 'Liniker']]\n",
    "sem_letra_a = [x for pessoas in nomes for x in pessoas if x[0].lower() != 'a']\n",
    "sem_letra_a"
   ]
  },
  {
   "cell_type": "code",
   "execution_count": null,
   "metadata": {},
   "outputs": [],
   "source": [
    "lista_externa = [[['vitória','Montevideo'],['Argentina','Cuba']],\n",
    "                 [['Lille','londres'],['Ucrânia','Irlanda']]] \n",
    "lista_add = []\n",
    "for lista_do_meio in lista_externa:\n",
    "    for lista_interna in lista_do_meio:\n",
    "        for x in lista_interna:\n",
    "            if len(x) > 6:\n",
    "                lista_add.append(x)\n",
    "lista_add"
   ]
  },
  {
   "cell_type": "code",
   "execution_count": null,
   "metadata": {},
   "outputs": [],
   "source": [
    "lista_interna_1 = ['vitória','Montevideo']\n",
    "lista_interna_2 = ['Argentina','Cuba']\n",
    "lista_interna_3 = ['Lille','londres']\n",
    "lista_interna_4 = ['Ucrânia','Irlanda']\n",
    "lista_do_meio_1 = [lista_interna_1,lista_interna_2]\n",
    "lista_do_meio_2 = [lista_interna_3, lista_interna_4]\n",
    "lista_externa = [lista_do_meio_1,lista_do_meio_2]\n",
    "lista_externa"
   ]
  },
  {
   "cell_type": "code",
   "execution_count": null,
   "metadata": {},
   "outputs": [],
   "source": [
    "# List Comprehension\n",
    "lista_externa = [[['vitória','Montevideo'],['Argentina','Cuba']],\n",
    "                 [['Lille','londres'],['Ucrânia','Irlanda']]]\n",
    "lista_add = [x for lista_do_meio in lista_externa for lista_interna in lista_do_meio for x in lista_interna if len(x)>6]\n",
    "lista_add"
   ]
  },
  {
   "cell_type": "code",
   "execution_count": null,
   "metadata": {},
   "outputs": [],
   "source": [
    "# Retornar cada caracter em uma sequência de caracteres\n",
    "lista = [x for x in 'Amo a UVV']\n",
    "lista"
   ]
  },
  {
   "cell_type": "code",
   "execution_count": null,
   "metadata": {},
   "outputs": [],
   "source": [
    "# Verificar os números pares em um range de números\n",
    "lista = [pares for pares in range(11) if pares % 2 == 0]"
   ]
  }
 ],
 "metadata": {
  "colab": {
   "collapsed_sections": [],
   "name": "TOPICO_IV.ipynb",
   "provenance": [],
   "toc_visible": true
  },
  "kernelspec": {
   "display_name": "Python 3",
   "language": "python",
   "name": "python3"
  },
  "language_info": {
   "codemirror_mode": {
    "name": "ipython",
    "version": 3
   },
   "file_extension": ".py",
   "mimetype": "text/x-python",
   "name": "python",
   "nbconvert_exporter": "python",
   "pygments_lexer": "ipython3",
   "version": "3.7.4"
  }
 },
 "nbformat": 4,
 "nbformat_minor": 1
}
